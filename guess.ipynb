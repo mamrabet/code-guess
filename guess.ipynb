{
 "cells": [
  {
   "cell_type": "code",
   "execution_count": 10,
   "metadata": {},
   "outputs": [
    {
     "name": "stdout",
     "output_type": "stream",
     "text": [
      "How many games would you like to play? 1\n",
      "Please select a number between 1 and 25: 20\n",
      "The number is smaller.\n",
      "Please select a number between 1 and 25: 15\n",
      "The number is smaller.\n",
      "Please select a number between 1 and 25: 10\n",
      "The number is smaller.\n",
      "Please select a number between 1 and 25: 5\n",
      "The number is bigger.\n",
      "Please select a number between 1 and 25: 8\n",
      "The number is smaller.\n",
      "Please select a number between 1 and 25: 7\n",
      "The number is smaller.\n",
      "Please select a number between 1 and 25: 6\n",
      "You guessed the number correctly. It took you 6 attempts.\n"
     ]
    }
   ],
   "source": [
    "import sys\n",
    "import random\n",
    "\n",
    "gamesToPlay = int(input(\"How many games would you like to play? \"))\n",
    "\n",
    "for x in range(0, gamesToPlay):\n",
    "    numberToGuess = random.randint(1,25)\n",
    "    guesses = 0\n",
    "    while (True):\n",
    "        guessedNumber = int(input(\"Please select a number between 1 and 25: \"))\n",
    "        if (guessedNumber == numberToGuess):\n",
    "            print(\"You guessed the number correctly. It took you \" + str(guesses) + \" attempts.\")\n",
    "            break\n",
    "        elif (guessedNumber < numberToGuess):\n",
    "            print(\"The number is bigger.\")\n",
    "            guesses+=1\n",
    "        elif (guessedNumber > numberToGuess):\n",
    "            print(\"The number is smaller.\")\n",
    "            guesses+=1"
   ]
  },
  {
   "cell_type": "code",
   "execution_count": null,
   "metadata": {},
   "outputs": [],
   "source": []
  }
 ],
 "metadata": {
  "kernelspec": {
   "display_name": "Python 3",
   "language": "python",
   "name": "python3"
  },
  "language_info": {
   "codemirror_mode": {
    "name": "ipython",
    "version": 3
   },
   "file_extension": ".py",
   "mimetype": "text/x-python",
   "name": "python",
   "nbconvert_exporter": "python",
   "pygments_lexer": "ipython3",
   "version": "3.7.3"
  }
 },
 "nbformat": 4,
 "nbformat_minor": 2
}
